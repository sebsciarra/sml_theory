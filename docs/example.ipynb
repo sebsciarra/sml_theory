{
 "cells": [
  {
   "cell_type": "markdown",
   "source": [
    "# Example usage\n",
    "\n",
    "To use `smltheory` in a project:"
   ],
   "metadata": {}
  },
  {
   "cell_type": "code",
   "execution_count": 5,
   "source": [
    "import smltheory\n",
    "\n",
    "print(smltheory.__version__)\n"
   ],
   "outputs": [
    {
     "data": {
      "text/plain": "'0.1.4'"
     },
     "execution_count": 5,
     "metadata": {},
     "output_type": "execute_result"
    }
   ],
   "metadata": {
    "ExecuteTime": {
     "end_time": "2023-08-07T15:59:21.674920Z",
     "start_time": "2023-08-07T15:59:21.600728Z"
    }
   }
  },
  {
   "cell_type": "markdown",
   "source": [
    "Define population and generate data from it\n"
   ],
   "metadata": {
    "collapsed": false
   }
  }
 ],
 "metadata": {
  "kernelspec": {
   "display_name": "Python 3",
   "language": "python",
   "name": "python3"
  },
  "language_info": {
   "codemirror_mode": {
    "name": "ipython",
    "version": 3
   },
   "file_extension": ".py",
   "mimetype": "text/x-python",
   "name": "python",
   "nbconvert_exporter": "python",
   "pygments_lexer": "ipython3",
   "version": "3.8.5"
  }
 },
 "nbformat": 4,
 "nbformat_minor": 4
}
